{
 "cells": [
  {
   "cell_type": "markdown",
   "metadata": {},
   "source": [
    "# PROGETTO DI FOUNDATIONS OF COMPUTER SCIENCE\n",
    "\n",
    "**- Nome:** Davide<br>\n",
    "**- Cognome:** Sangalli<br>\n",
    "**- Matricola:** 848013<br>"
   ]
  },
  {
   "cell_type": "code",
   "execution_count": 1,
   "metadata": {},
   "outputs": [],
   "source": [
    "import pandas as pd\n",
    "import numpy as np\n",
    "import datetime\n",
    "import random\n",
    "import time"
   ]
  },
  {
   "cell_type": "markdown",
   "metadata": {},
   "source": [
    "Viene innanzitutto creata una funzione per leggere tutti i dataset necessari e successivamente vengono caricati in memoria"
   ]
  },
  {
   "cell_type": "code",
   "execution_count": 2,
   "metadata": {},
   "outputs": [],
   "source": [
    "def load_dataset(name):\n",
    "    df= pd.read_csv(r'{}'.format(name))\n",
    "    return df"
   ]
  },
  {
   "cell_type": "code",
   "execution_count": 3,
   "metadata": {},
   "outputs": [],
   "source": [
    "loans_lenders=load_dataset(\"./FCS/loans_lenders.csv\")\n",
    "loans=load_dataset(\"./FCS/loans.csv\")\n",
    "lenders=load_dataset(\"./FCS/lenders.csv\")\n",
    "country_stats=load_dataset(\"./FCS/country_stats.csv\")"
   ]
  },
  {
   "cell_type": "markdown",
   "metadata": {},
   "source": [
    "### 1) Normalize the loan_lenders table.\n",
    "In the normalized table, each row must have one loan_id and one lender.\n",
    "\n",
    "Per realizzare la normalizzazione viene settato l'attibuto *loan_id* come indice e viene splittato l'attributo *lenders*; successivamente vengono duplicati gli indici tramite la funzione **explode()**."
   ]
  },
  {
   "cell_type": "code",
   "execution_count": 4,
   "metadata": {},
   "outputs": [
    {
     "data": {
      "text/html": [
       "<div>\n",
       "<style scoped>\n",
       "    .dataframe tbody tr th:only-of-type {\n",
       "        vertical-align: middle;\n",
       "    }\n",
       "\n",
       "    .dataframe tbody tr th {\n",
       "        vertical-align: top;\n",
       "    }\n",
       "\n",
       "    .dataframe thead th {\n",
       "        text-align: right;\n",
       "    }\n",
       "</style>\n",
       "<table border=\"1\" class=\"dataframe\">\n",
       "  <thead>\n",
       "    <tr style=\"text-align: right;\">\n",
       "      <th></th>\n",
       "      <th>loan_id</th>\n",
       "      <th>lenders</th>\n",
       "    </tr>\n",
       "  </thead>\n",
       "  <tbody>\n",
       "    <tr>\n",
       "      <th>0</th>\n",
       "      <td>483693</td>\n",
       "      <td>muc888</td>\n",
       "    </tr>\n",
       "    <tr>\n",
       "      <th>1</th>\n",
       "      <td>483693</td>\n",
       "      <td>sam4326</td>\n",
       "    </tr>\n",
       "    <tr>\n",
       "      <th>2</th>\n",
       "      <td>483693</td>\n",
       "      <td>camaran3922</td>\n",
       "    </tr>\n",
       "    <tr>\n",
       "      <th>3</th>\n",
       "      <td>483693</td>\n",
       "      <td>lachheb1865</td>\n",
       "    </tr>\n",
       "    <tr>\n",
       "      <th>4</th>\n",
       "      <td>483693</td>\n",
       "      <td>rebecca3499</td>\n",
       "    </tr>\n",
       "    <tr>\n",
       "      <th>...</th>\n",
       "      <td>...</td>\n",
       "      <td>...</td>\n",
       "    </tr>\n",
       "    <tr>\n",
       "      <th>28293926</th>\n",
       "      <td>1206425</td>\n",
       "      <td>trogdorfamily7622</td>\n",
       "    </tr>\n",
       "    <tr>\n",
       "      <th>28293927</th>\n",
       "      <td>1206425</td>\n",
       "      <td>danny6470</td>\n",
       "    </tr>\n",
       "    <tr>\n",
       "      <th>28293928</th>\n",
       "      <td>1206425</td>\n",
       "      <td>don6118</td>\n",
       "    </tr>\n",
       "    <tr>\n",
       "      <th>28293929</th>\n",
       "      <td>1206486</td>\n",
       "      <td>alan5175</td>\n",
       "    </tr>\n",
       "    <tr>\n",
       "      <th>28293930</th>\n",
       "      <td>1206486</td>\n",
       "      <td>amy38101311</td>\n",
       "    </tr>\n",
       "  </tbody>\n",
       "</table>\n",
       "<p>28293931 rows × 2 columns</p>\n",
       "</div>"
      ],
      "text/plain": [
       "          loan_id            lenders\n",
       "0          483693             muc888\n",
       "1          483693            sam4326\n",
       "2          483693        camaran3922\n",
       "3          483693        lachheb1865\n",
       "4          483693        rebecca3499\n",
       "...           ...                ...\n",
       "28293926  1206425  trogdorfamily7622\n",
       "28293927  1206425          danny6470\n",
       "28293928  1206425            don6118\n",
       "28293929  1206486           alan5175\n",
       "28293930  1206486        amy38101311\n",
       "\n",
       "[28293931 rows x 2 columns]"
      ]
     },
     "execution_count": 4,
     "metadata": {},
     "output_type": "execute_result"
    }
   ],
   "source": [
    "loans_lenders_normalized = (loans_lenders.set_index(['loan_id'])\n",
    "                   .apply(lambda x: x.str.split(', ').explode())\n",
    "                   .reset_index())\n",
    " \n",
    "loans_lenders_normalized"
   ]
  },
  {
   "cell_type": "markdown",
   "metadata": {},
   "source": [
    "### 2) For each loan, add a column duration corresponding to the number of days between the disburse time and the planned expiration time.\n",
    "\n",
    "If any of those two dates is missing, also the duration must be missing.\n",
    "\n",
    "Dopo aver trasformato gli attributi *disburse time* e *planned expiration time* in formato **datetime**, si è eseguita la differenza tra le due quantità, creando una nuova colonna (*duration*); successivamente si è controllato quanti valori di *duration* fossero nulli."
   ]
  },
  {
   "cell_type": "code",
   "execution_count": 5,
   "metadata": {},
   "outputs": [],
   "source": [
    "def get_duration():\n",
    "    \n",
    "    loans[['disburse_time', 'planned_expiration_time']]=loans[['disburse_time', \n",
    "                                                    'planned_expiration_time']].apply(pd.to_datetime).apply(lambda x: x.dt.date)\n",
    "    \n",
    "    loans['duration']=(loans['planned_expiration_time']-loans['disburse_time']).dt.days\n",
    "    \n",
    "    print(loans['duration'])\n",
    "    \n",
    "    print(loans['duration'].isnull().value_counts())"
   ]
  },
  {
   "cell_type": "code",
   "execution_count": 6,
   "metadata": {},
   "outputs": [
    {
     "name": "stdout",
     "output_type": "stream",
     "text": [
      "0          54.0\n",
      "1          96.0\n",
      "2          37.0\n",
      "3          35.0\n",
      "4          58.0\n",
      "           ... \n",
      "1419602    40.0\n",
      "1419603    39.0\n",
      "1419604    51.0\n",
      "1419605    63.0\n",
      "1419606    61.0\n",
      "Name: duration, Length: 1419607, dtype: float64\n",
      "False    1044962\n",
      "True      374645\n",
      "Name: duration, dtype: int64\n"
     ]
    }
   ],
   "source": [
    "get_duration()"
   ]
  },
  {
   "cell_type": "markdown",
   "metadata": {},
   "source": [
    "### 3) Find the lenders that have funded at least twice.\n",
    "\n",
    "Viene eseguito un merge tra i prestiti che hanno uno stato *funded* e la tabella *loans_lenders_normalized* creata al punto 1).<br>Successivamente vengono restituiti solo i *lenders* che hanno investito almeno due volte. "
   ]
  },
  {
   "cell_type": "code",
   "execution_count": 7,
   "metadata": {},
   "outputs": [],
   "source": [
    "def find_loans_funded():\n",
    "    \n",
    "    loans_funded = pd.merge(loans['loan_id'].loc[loans['status'] == 'funded'], loans_lenders_normalized, \n",
    "                        on = 'loan_id')\n",
    "    \n",
    "    print(loans_funded['lenders'].value_counts().loc[lambda x: x>=2])"
   ]
  },
  {
   "cell_type": "code",
   "execution_count": 8,
   "metadata": {},
   "outputs": [
    {
     "name": "stdout",
     "output_type": "stream",
     "text": [
      "gooddogg1           167512\n",
      "trolltech4460       141268\n",
      "gmct                123164\n",
      "nms                  96713\n",
      "themissionbeltco     74067\n",
      "                     ...  \n",
      "juan5753                 2\n",
      "terry9263                2\n",
      "sonia5902                2\n",
      "deb3855                  2\n",
      "melody1952               2\n",
      "Name: lenders, Length: 893981, dtype: int64\n"
     ]
    }
   ],
   "source": [
    "find_loans_funded()"
   ]
  },
  {
   "cell_type": "markdown",
   "metadata": {},
   "source": [
    "### 4) For each country, compute how many loans have involved that country as borrowers.\n",
    "\n",
    "Per svolgere questo punto, si calcolano le occorrenze di ogni Paese all'interno del dataset *loans*."
   ]
  },
  {
   "cell_type": "code",
   "execution_count": 9,
   "metadata": {},
   "outputs": [
    {
     "data": {
      "text/plain": [
       "Philippines         285336\n",
       "Kenya               143699\n",
       "Peru                 86000\n",
       "Cambodia             79701\n",
       "El Salvador          64037\n",
       "                     ...  \n",
       "Papua New Guinea         1\n",
       "Canada                   1\n",
       "Botswana                 1\n",
       "Mauritania               1\n",
       "Uruguay                  1\n",
       "Name: country_name, Length: 96, dtype: int64"
      ]
     },
     "execution_count": 9,
     "metadata": {},
     "output_type": "execute_result"
    }
   ],
   "source": [
    "loans['country_name'].value_counts()"
   ]
  },
  {
   "cell_type": "markdown",
   "metadata": {},
   "source": [
    "### 5) For each country, compute the overall amount of money borrowed.\n",
    "\n",
    "Per calcolare l'importo complessivo del denaro preso in prestito per ogni Paese, si esegue un raggruppamento per Paese (attributo *country_name*) e si esegue una somma dell'importo del prestito."
   ]
  },
  {
   "cell_type": "code",
   "execution_count": 10,
   "metadata": {},
   "outputs": [
    {
     "data": {
      "text/plain": [
       "country_name\n",
       "Afghanistan        1967950.0\n",
       "Albania            4307350.0\n",
       "Armenia           22950475.0\n",
       "Azerbaijan        14784625.0\n",
       "Belize              150175.0\n",
       "                     ...    \n",
       "Vietnam           24681100.0\n",
       "Virgin Islands       10000.0\n",
       "Yemen              3444000.0\n",
       "Zambia             1978975.0\n",
       "Zimbabwe           5851875.0\n",
       "Name: loan_amount, Length: 96, dtype: float64"
      ]
     },
     "execution_count": 10,
     "metadata": {},
     "output_type": "execute_result"
    }
   ],
   "source": [
    "country_borrowed = loans.groupby('country_name')['loan_amount'].sum()\n",
    "\n",
    "country_borrowed"
   ]
  },
  {
   "cell_type": "markdown",
   "metadata": {},
   "source": [
    "### 6) Like the previous point, but expressed as a percentage of the overall amount lent.\n",
    "\n",
    "Si considera ora l'importo prestato (attributo *funded_amount*); successivamente si calcola la percentuale di denaro prestato sul denaro preso in prestito"
   ]
  },
  {
   "cell_type": "code",
   "execution_count": 11,
   "metadata": {},
   "outputs": [
    {
     "data": {
      "text/plain": [
       "country_name\n",
       "Afghanistan       100.167969\n",
       "Albania           107.886712\n",
       "Armenia           113.141941\n",
       "Azerbaijan        104.180540\n",
       "Belize            100.000000\n",
       "                     ...    \n",
       "Vietnam           105.187880\n",
       "Virgin Islands           inf\n",
       "Yemen             103.113001\n",
       "Zambia            103.435254\n",
       "Zimbabwe          100.572737\n",
       "Length: 96, dtype: float64"
      ]
     },
     "execution_count": 11,
     "metadata": {},
     "output_type": "execute_result"
    }
   ],
   "source": [
    "country_lent=loans.groupby('country_name')['funded_amount'].sum()\n",
    "\n",
    "(country_borrowed/country_lent)*100"
   ]
  },
  {
   "cell_type": "markdown",
   "metadata": {},
   "source": [
    "### 7) Like the three previous points, but split for each year (with respect to \"disburse time\").\n",
    "\n",
    "Viene innanzittutto creata una colonna apposita nel dataframe *loans*, chiamata **disburse_year**, ottenuta splittando la colonna **disburse_time** e tenendo solo l'anno.\n",
    "\n",
    "Successivamente, verranno effettuate le tre operazioni precedenti, ma eseguendo una *group_by* anche  sull'anno, oltre che sul nome del Paese"
   ]
  },
  {
   "cell_type": "code",
   "execution_count": 12,
   "metadata": {},
   "outputs": [],
   "source": [
    "loans['disburse_year']=loans['disburse_time'].apply(lambda x:x.year)"
   ]
  },
  {
   "cell_type": "markdown",
   "metadata": {},
   "source": [
    "#### 7.1) For each country and year, compute how many loans have involved that country as borrowers."
   ]
  },
  {
   "cell_type": "code",
   "execution_count": 13,
   "metadata": {},
   "outputs": [
    {
     "data": {
      "text/plain": [
       "country_name  disburse_year\n",
       "Afghanistan   2007.0            408\n",
       "              2008.0            370\n",
       "              2009.0            678\n",
       "              2010.0            632\n",
       "              2011.0            247\n",
       "                               ... \n",
       "Zimbabwe      2013.0            426\n",
       "              2014.0           2078\n",
       "              2015.0            600\n",
       "              2016.0            808\n",
       "              2017.0           1079\n",
       "Length: 748, dtype: int64"
      ]
     },
     "execution_count": 13,
     "metadata": {},
     "output_type": "execute_result"
    }
   ],
   "source": [
    "loans.groupby(['country_name', 'disburse_year']).size()"
   ]
  },
  {
   "cell_type": "markdown",
   "metadata": {},
   "source": [
    "#### 7.2) For each country and year, compute the overall amount of money borrowed."
   ]
  },
  {
   "cell_type": "code",
   "execution_count": 14,
   "metadata": {},
   "outputs": [
    {
     "data": {
      "text/plain": [
       "country_name  disburse_year\n",
       "Afghanistan   2007.0            194975.0\n",
       "              2008.0            365375.0\n",
       "              2009.0            585125.0\n",
       "              2010.0            563350.0\n",
       "              2011.0            245125.0\n",
       "                                 ...    \n",
       "Zimbabwe      2013.0            678525.0\n",
       "              2014.0           1311575.0\n",
       "              2015.0            723625.0\n",
       "              2016.0            788600.0\n",
       "              2017.0           1237600.0\n",
       "Name: loan_amount, Length: 748, dtype: float64"
      ]
     },
     "execution_count": 14,
     "metadata": {},
     "output_type": "execute_result"
    }
   ],
   "source": [
    "loans.groupby(['country_name', 'disburse_year'])['loan_amount'].sum()"
   ]
  },
  {
   "cell_type": "markdown",
   "metadata": {},
   "source": [
    "#### 7.3) For each country and year, do like the previous point, but expressed as a percentage of the overall amount lent."
   ]
  },
  {
   "cell_type": "code",
   "execution_count": 15,
   "metadata": {},
   "outputs": [
    {
     "data": {
      "text/plain": [
       "country_name  disburse_year\n",
       "Afghanistan   2007.0           0.017252\n",
       "              2008.0           0.032329\n",
       "              2009.0           0.051772\n",
       "              2010.0           0.049846\n",
       "              2011.0           0.021689\n",
       "                                 ...   \n",
       "Zimbabwe      2013.0           0.060037\n",
       "              2014.0           0.116050\n",
       "              2015.0           0.064027\n",
       "              2016.0           0.069776\n",
       "              2017.0           0.109504\n",
       "Name: loan_amount, Length: 748, dtype: float64"
      ]
     },
     "execution_count": 15,
     "metadata": {},
     "output_type": "execute_result"
    }
   ],
   "source": [
    "(loans.groupby(['country_name', 'disburse_year'])['loan_amount'].sum() / loans['funded_amount'].sum()) * 100"
   ]
  },
  {
   "cell_type": "markdown",
   "metadata": {},
   "source": [
    "### 8) For each lender, compute the overall amount of money lent.\n",
    "For each loan that has more than one lender, you must assume that all lenders contributed the same amount.\n",
    "\n",
    "Viene creato un dataframe unendo i dataframe *loans_lenders_normalized* e *loans*, successivamente viene creata una nuova colonna, chiamata *average_amount*, che esprime il contributo di ogni ogni membro (assumendo che ad ogni lender corrisponda la stessa somma di denaro). Infine, si raggruppa per *lenders* e si calcola la somma di denaro prestata."
   ]
  },
  {
   "cell_type": "code",
   "execution_count": 16,
   "metadata": {},
   "outputs": [
    {
     "data": {
      "text/html": [
       "<div>\n",
       "<style scoped>\n",
       "    .dataframe tbody tr th:only-of-type {\n",
       "        vertical-align: middle;\n",
       "    }\n",
       "\n",
       "    .dataframe tbody tr th {\n",
       "        vertical-align: top;\n",
       "    }\n",
       "\n",
       "    .dataframe thead th {\n",
       "        text-align: right;\n",
       "    }\n",
       "</style>\n",
       "<table border=\"1\" class=\"dataframe\">\n",
       "  <thead>\n",
       "    <tr style=\"text-align: right;\">\n",
       "      <th></th>\n",
       "      <th>lenders</th>\n",
       "      <th>lent</th>\n",
       "    </tr>\n",
       "  </thead>\n",
       "  <tbody>\n",
       "    <tr>\n",
       "      <th>0</th>\n",
       "      <td>000</td>\n",
       "      <td>1512.095370</td>\n",
       "    </tr>\n",
       "    <tr>\n",
       "      <th>1</th>\n",
       "      <td>00000</td>\n",
       "      <td>1249.127691</td>\n",
       "    </tr>\n",
       "    <tr>\n",
       "      <th>2</th>\n",
       "      <td>0002</td>\n",
       "      <td>2201.180463</td>\n",
       "    </tr>\n",
       "    <tr>\n",
       "      <th>3</th>\n",
       "      <td>00mike00</td>\n",
       "      <td>38.461538</td>\n",
       "    </tr>\n",
       "    <tr>\n",
       "      <th>4</th>\n",
       "      <td>0101craign0101</td>\n",
       "      <td>2424.088932</td>\n",
       "    </tr>\n",
       "    <tr>\n",
       "      <th>...</th>\n",
       "      <td>...</td>\n",
       "      <td>...</td>\n",
       "    </tr>\n",
       "    <tr>\n",
       "      <th>1383794</th>\n",
       "      <td>zzmcfate</td>\n",
       "      <td>57535.947017</td>\n",
       "    </tr>\n",
       "    <tr>\n",
       "      <th>1383795</th>\n",
       "      <td>zzpaghetti9994</td>\n",
       "      <td>44.247788</td>\n",
       "    </tr>\n",
       "    <tr>\n",
       "      <th>1383796</th>\n",
       "      <td>zzrvmf8538</td>\n",
       "      <td>480.818179</td>\n",
       "    </tr>\n",
       "    <tr>\n",
       "      <th>1383797</th>\n",
       "      <td>zzzsai</td>\n",
       "      <td>236.888048</td>\n",
       "    </tr>\n",
       "    <tr>\n",
       "      <th>1383798</th>\n",
       "      <td>zzzworld</td>\n",
       "      <td>26.315789</td>\n",
       "    </tr>\n",
       "  </tbody>\n",
       "</table>\n",
       "<p>1383799 rows × 2 columns</p>\n",
       "</div>"
      ],
      "text/plain": [
       "                lenders          lent\n",
       "0                   000   1512.095370\n",
       "1                 00000   1249.127691\n",
       "2                  0002   2201.180463\n",
       "3              00mike00     38.461538\n",
       "4        0101craign0101   2424.088932\n",
       "...                 ...           ...\n",
       "1383794        zzmcfate  57535.947017\n",
       "1383795  zzpaghetti9994     44.247788\n",
       "1383796      zzrvmf8538    480.818179\n",
       "1383797          zzzsai    236.888048\n",
       "1383798        zzzworld     26.315789\n",
       "\n",
       "[1383799 rows x 2 columns]"
      ]
     },
     "execution_count": 16,
     "metadata": {},
     "output_type": "execute_result"
    }
   ],
   "source": [
    "money_lent_lenders = pd.merge(loans_lenders_normalized, loans[['loan_id', 'funded_amount', 'num_lenders_total']], \n",
    "                              on = 'loan_id')\n",
    "    \n",
    "money_lent_lenders['average_amount'] = money_lent_lenders['funded_amount'] / money_lent_lenders['num_lenders_total']\n",
    "\n",
    "money_lent_lenders.groupby('lenders')['average_amount'].sum().reset_index(name = 'lent')"
   ]
  },
  {
   "cell_type": "markdown",
   "metadata": {},
   "source": [
    "### 9) For each country, compute the difference between the overall amount of money lent and the overall amount of money borrowed\n",
    "Since the country of the lender is often unknown, you can assume that the true distribution among the countries is the same as the one computed from the rows where the country is known.\n",
    "\n",
    "Prima di tutto si controlla il numero di *country_code* nulli per i dataframes *loans* e *lenders*"
   ]
  },
  {
   "cell_type": "code",
   "execution_count": 17,
   "metadata": {},
   "outputs": [
    {
     "name": "stdout",
     "output_type": "stream",
     "text": [
      "False    1419598\n",
      "True           9\n",
      "Name: country_code, dtype: int64\n",
      "True     1458635\n",
      "False     890539\n",
      "Name: country_code, dtype: int64\n"
     ]
    }
   ],
   "source": [
    "print(loans['country_code'].isna().value_counts())\n",
    "print(lenders['country_code'].isna().value_counts())"
   ]
  },
  {
   "cell_type": "markdown",
   "metadata": {},
   "source": [
    "Come secondo step, si trova la distribuzione per i *country_code*, definendo un metodo di sostituzione per i *country_code* nulli. In particolare, per la sosituzione di valori nulli, si usa una probabilità data dal rapporto tra il numero di *country_code* non nulli e la lunghezza degli stessi (funzione **get_country_code_distibution**). Infine si provvede alla sostituzione di questi (funzione **replace_null_country_codes**). "
   ]
  },
  {
   "cell_type": "code",
   "execution_count": 18,
   "metadata": {},
   "outputs": [],
   "source": [
    "def get_country_code_distribution(series):\n",
    "    \n",
    "    replaces=[]\n",
    "    \n",
    "    not_null_country_codes=pd.unique(series.dropna())\n",
    "    replaces.append(not_null_country_codes)\n",
    "    \n",
    "    replace_probs=series.dropna().value_counts()/len(series.dropna())\n",
    "    replaces.append(replace_probs)\n",
    "    \n",
    "    null_country_code_idxs=series.index[series.isnull()]\n",
    "    replaces.append(null_country_code_idxs)\n",
    "    \n",
    "    replaces.append(len(null_country_code_idxs))\n",
    "    \n",
    "    return replaces"
   ]
  },
  {
   "cell_type": "code",
   "execution_count": 19,
   "metadata": {},
   "outputs": [],
   "source": [
    "def replace_null_country_codes(df,series):\n",
    "    \n",
    "    fill_null_country_codes=get_country_code_distribution(series)\n",
    "    \n",
    "    country_code_replaces=pd.Series(np.random.choice(fill_null_country_codes[0],p=fill_null_country_codes[1],\n",
    "                                                size=fill_null_country_codes[3]),index=fill_null_country_codes[2])\n",
    "    \n",
    "    if(df==\"lenders\"):\n",
    "        \n",
    "        lenders['country_code'].fillna(country_code_replaces,inplace=True)\n",
    "        return lenders\n",
    "    \n",
    "    elif(df==\"loans\"):\n",
    "        \n",
    "        loans['country_code'].fillna(country_code_replaces,inplace=True)\n",
    "        return loans"
   ]
  },
  {
   "cell_type": "code",
   "execution_count": 20,
   "metadata": {},
   "outputs": [],
   "source": [
    "lenders=replace_null_country_codes(\"lenders\",lenders['country_code'])\n",
    "loans=replace_null_country_codes(\"loans\",loans['country_code'])"
   ]
  },
  {
   "cell_type": "markdown",
   "metadata": {},
   "source": [
    "Si controlla ora il numero di *country_code* nulli e si verifica che non ce ne sono più dopo aver operato la sostituzione"
   ]
  },
  {
   "cell_type": "code",
   "execution_count": 21,
   "metadata": {},
   "outputs": [
    {
     "name": "stdout",
     "output_type": "stream",
     "text": [
      "False    2349174\n",
      "Name: country_code, dtype: int64\n",
      "False    1419607\n",
      "Name: country_code, dtype: int64\n"
     ]
    }
   ],
   "source": [
    "print(lenders['country_code'].isna().value_counts())\n",
    "print(loans['country_code'].isna().value_counts())   "
   ]
  },
  {
   "cell_type": "markdown",
   "metadata": {},
   "source": [
    "Si trovano ora le nuove distribuzioni per i soldi presi in prestito e per i soldi prestati "
   ]
  },
  {
   "cell_type": "code",
   "execution_count": 22,
   "metadata": {},
   "outputs": [],
   "source": [
    "def get_distribution_money_borrowed(df):\n",
    "    \n",
    "    new_df_grouped= df.groupby('country_code')['loan_amount'].sum().reset_index(name = 'borrowed')\n",
    "    \n",
    "    return new_df_grouped"
   ]
  },
  {
   "cell_type": "code",
   "execution_count": 23,
   "metadata": {},
   "outputs": [],
   "source": [
    "def get_distribution_money_lent(df_1,df_2):\n",
    "    \n",
    "    new_df = pd.merge(df_1, df_2,left_on = 'lenders', right_on = 'permanent_name')\n",
    "    \n",
    "    new_df_grouped = new_df.groupby('country_code')['average_amount'].sum().reset_index(name = 'lent')\n",
    "    \n",
    "    return new_df_grouped"
   ]
  },
  {
   "cell_type": "code",
   "execution_count": 24,
   "metadata": {},
   "outputs": [],
   "source": [
    "money_borrowed_by_country=get_distribution_money_borrowed(loans)"
   ]
  },
  {
   "cell_type": "code",
   "execution_count": 25,
   "metadata": {},
   "outputs": [],
   "source": [
    "money_lent_per_country=get_distribution_money_lent(money_lent_lenders,lenders[['permanent_name', 'country_code']])"
   ]
  },
  {
   "cell_type": "markdown",
   "metadata": {},
   "source": [
    "Infine si crea un nuovo dataframe, dato dal merge tra i soldi prestati per ogni Paese e i soldi presi in prestito per ogni Paese.<br> Si riempiono con zero i valori nulli all'interno di quest'ultimo dataframe e si crea una nuova colonna (*difference*), data dalla sottrazione tra soldi prestati per ogni Paese e soldi presi in prestito per ogni Paese."
   ]
  },
  {
   "cell_type": "code",
   "execution_count": 26,
   "metadata": {},
   "outputs": [],
   "source": [
    "money_lent_borrowed_by_country = pd.merge(money_lent_per_country, money_borrowed_by_country, on = 'country_code', \n",
    "                                    how = 'outer')\n",
    "\n",
    "money_lent_borrowed_by_country.fillna(0, inplace = True)\n",
    "\n",
    "money_lent_borrowed_by_country['difference'] = money_lent_borrowed_by_country['lent'] - \\\n",
    "                                               money_lent_borrowed_by_country['borrowed']"
   ]
  },
  {
   "cell_type": "code",
   "execution_count": 27,
   "metadata": {},
   "outputs": [],
   "source": [
    "pd.set_option('display.float_format', lambda x: '%.5f' % x)"
   ]
  },
  {
   "cell_type": "code",
   "execution_count": 28,
   "metadata": {},
   "outputs": [
    {
     "data": {
      "text/html": [
       "<div>\n",
       "<style scoped>\n",
       "    .dataframe tbody tr th:only-of-type {\n",
       "        vertical-align: middle;\n",
       "    }\n",
       "\n",
       "    .dataframe tbody tr th {\n",
       "        vertical-align: top;\n",
       "    }\n",
       "\n",
       "    .dataframe thead th {\n",
       "        text-align: right;\n",
       "    }\n",
       "</style>\n",
       "<table border=\"1\" class=\"dataframe\">\n",
       "  <thead>\n",
       "    <tr style=\"text-align: right;\">\n",
       "      <th></th>\n",
       "      <th>country_code</th>\n",
       "      <th>lent</th>\n",
       "      <th>borrowed</th>\n",
       "      <th>difference</th>\n",
       "    </tr>\n",
       "  </thead>\n",
       "  <tbody>\n",
       "    <tr>\n",
       "      <th>0</th>\n",
       "      <td>AD</td>\n",
       "      <td>14587.76532</td>\n",
       "      <td>0.00000</td>\n",
       "      <td>14587.76532</td>\n",
       "    </tr>\n",
       "    <tr>\n",
       "      <th>1</th>\n",
       "      <td>AE</td>\n",
       "      <td>1664676.36244</td>\n",
       "      <td>0.00000</td>\n",
       "      <td>1664676.36244</td>\n",
       "    </tr>\n",
       "    <tr>\n",
       "      <th>2</th>\n",
       "      <td>AF</td>\n",
       "      <td>96670.50779</td>\n",
       "      <td>1967950.00000</td>\n",
       "      <td>-1871279.49221</td>\n",
       "    </tr>\n",
       "    <tr>\n",
       "      <th>3</th>\n",
       "      <td>AG</td>\n",
       "      <td>1428.39955</td>\n",
       "      <td>0.00000</td>\n",
       "      <td>1428.39955</td>\n",
       "    </tr>\n",
       "    <tr>\n",
       "      <th>4</th>\n",
       "      <td>AI</td>\n",
       "      <td>1000.84298</td>\n",
       "      <td>0.00000</td>\n",
       "      <td>1000.84298</td>\n",
       "    </tr>\n",
       "    <tr>\n",
       "      <th>...</th>\n",
       "      <td>...</td>\n",
       "      <td>...</td>\n",
       "      <td>...</td>\n",
       "      <td>...</td>\n",
       "    </tr>\n",
       "    <tr>\n",
       "      <th>230</th>\n",
       "      <td>ZA</td>\n",
       "      <td>489807.03514</td>\n",
       "      <td>1006525.00000</td>\n",
       "      <td>-516717.96486</td>\n",
       "    </tr>\n",
       "    <tr>\n",
       "      <th>231</th>\n",
       "      <td>ZM</td>\n",
       "      <td>36042.19179</td>\n",
       "      <td>1978975.00000</td>\n",
       "      <td>-1942932.80821</td>\n",
       "    </tr>\n",
       "    <tr>\n",
       "      <th>232</th>\n",
       "      <td>ZW</td>\n",
       "      <td>8995.80754</td>\n",
       "      <td>5851875.00000</td>\n",
       "      <td>-5842879.19246</td>\n",
       "    </tr>\n",
       "    <tr>\n",
       "      <th>233</th>\n",
       "      <td>GZ</td>\n",
       "      <td>0.00000</td>\n",
       "      <td>5000.00000</td>\n",
       "      <td>-5000.00000</td>\n",
       "    </tr>\n",
       "    <tr>\n",
       "      <th>234</th>\n",
       "      <td>TD</td>\n",
       "      <td>0.00000</td>\n",
       "      <td>20075.00000</td>\n",
       "      <td>-20075.00000</td>\n",
       "    </tr>\n",
       "  </tbody>\n",
       "</table>\n",
       "<p>235 rows × 4 columns</p>\n",
       "</div>"
      ],
      "text/plain": [
       "    country_code          lent      borrowed     difference\n",
       "0             AD   14587.76532       0.00000    14587.76532\n",
       "1             AE 1664676.36244       0.00000  1664676.36244\n",
       "2             AF   96670.50779 1967950.00000 -1871279.49221\n",
       "3             AG    1428.39955       0.00000     1428.39955\n",
       "4             AI    1000.84298       0.00000     1000.84298\n",
       "..           ...           ...           ...            ...\n",
       "230           ZA  489807.03514 1006525.00000  -516717.96486\n",
       "231           ZM   36042.19179 1978975.00000 -1942932.80821\n",
       "232           ZW    8995.80754 5851875.00000 -5842879.19246\n",
       "233           GZ       0.00000    5000.00000    -5000.00000\n",
       "234           TD       0.00000   20075.00000   -20075.00000\n",
       "\n",
       "[235 rows x 4 columns]"
      ]
     },
     "execution_count": 28,
     "metadata": {},
     "output_type": "execute_result"
    }
   ],
   "source": [
    "money_lent_borrowed_by_country"
   ]
  },
  {
   "cell_type": "markdown",
   "metadata": {},
   "source": [
    "### 10) Which country has the highest ratio between the difference computed at the previous point and the population?"
   ]
  },
  {
   "cell_type": "markdown",
   "metadata": {},
   "source": [
    "La funzione **get_ratio** serve per calcolare le richieste del punto 10 e del punto 11.<br>\n",
    "Il dataframe che contiene le informazioni riguardanti i Paesi è *country_stats*.<br> Per quanto rigurda il punto 10, questo dataframe viene unito al dataframe costruito precedentemente (*money_lent_borrowed_by_country*) e viene restituito il Paese che ha la ratio più alta.<br> Per quanto riguarda il punto 11, quando viene effettuato il merge si prende anche in considerazione l'attributo *population_below_poverty_line*.<br> Grazie al parametro booleano (impostato di default a **False**) è possibile decidere se includere quest'ultimo attributo o meno. "
   ]
  },
  {
   "cell_type": "code",
   "execution_count": 29,
   "metadata": {},
   "outputs": [],
   "source": [
    "def get_ratio(dataframe,poverty_line=False):\n",
    "    \n",
    "    if(poverty_line):\n",
    "        \n",
    "        dataframe=pd.merge(dataframe, country_stats[['country_code', 'population', \n",
    "                                    'population_below_poverty_line']], \n",
    "                                     on = 'country_code')\n",
    "        \n",
    "        dataframe['population_above_poverty_line'] = (dataframe['population'] * \n",
    "                                           (100-dataframe['population_below_poverty_line'])) / 100\n",
    "        \n",
    "        dataframe=dataframe.set_index('country_code')\n",
    "        \n",
    "        print((dataframe['difference'] / dataframe['population_above_poverty_line']).idxmax())\n",
    "    \n",
    "    else:\n",
    "        \n",
    "        dataframe=pd.merge(dataframe,country_stats[['country_code','population']],\n",
    "                                       on='country_code')\n",
    "        \n",
    "        dataframe=dataframe.set_index('country_code')\n",
    "        \n",
    "        print((dataframe['difference']/dataframe['population']).idxmax())"
   ]
  },
  {
   "cell_type": "code",
   "execution_count": 30,
   "metadata": {},
   "outputs": [
    {
     "name": "stdout",
     "output_type": "stream",
     "text": [
      "NO\n"
     ]
    }
   ],
   "source": [
    "get_ratio(money_lent_borrowed_by_country)"
   ]
  },
  {
   "cell_type": "markdown",
   "metadata": {},
   "source": [
    "### 11) Which country has the highest ratio between the difference computed at point 9 and the population that is not below the poverty line?"
   ]
  },
  {
   "cell_type": "code",
   "execution_count": 31,
   "metadata": {},
   "outputs": [
    {
     "name": "stdout",
     "output_type": "stream",
     "text": [
      "CA\n"
     ]
    }
   ],
   "source": [
    "get_ratio(money_lent_borrowed_by_country,True)"
   ]
  },
  {
   "cell_type": "markdown",
   "metadata": {},
   "source": [
    "### 12) For each year, compute the total amount of loans. \n",
    "Each loan that has planned expiration time and disburse time in different years must have its amount distributed proportionally to the number of days in each year. "
   ]
  },
  {
   "cell_type": "markdown",
   "metadata": {},
   "source": [
    "Per quest'ultimo punto si è operato nel seguente modo:<br>\n",
    "*1)*: si è calcolato il valore assoluto della colonna *duration* del dataframe *loans*<br>\n",
    "*2)*: si sono eliminati i valori nulli delle colonne *planned_expiration_time* e *disburse_time* del dataframe *loans*<br>\n",
    "*3)*: per semplicità computazione si sono divisi tutti i prestiti con durata diversa da zero da quelli con durata zero"
   ]
  },
  {
   "cell_type": "code",
   "execution_count": 32,
   "metadata": {},
   "outputs": [],
   "source": [
    "loans['duration'] = loans['duration'].abs()\n",
    "\n",
    "loans_not_null = loans.dropna(subset = ['planned_expiration_time', 'disburse_time'])\n",
    "\n",
    "loans__duration_not_zero = loans_not_null[loans_not_null['duration'] != 0]\n",
    "\n",
    "loans_duration_zero = loans_not_null[loans_not_null['duration'] == 0]"
   ]
  },
  {
   "cell_type": "markdown",
   "metadata": {},
   "source": [
    "La funzione **day_count** serve per calcolare il numero di giorni tra la data di inizio e di fine.<br>\n",
    "La funzione restituisce una serie, creata a partire da un dizionario. Tale dizionario ha come chiave l'anno e il valore corrisponde la numero di giorni tra la data di inzio e di fine.<br>In particolare questo valore è dato dalla differenza tra il minimo valore tra la la data effettiva di fine e il primo gennaio dell'anno successivo e il massimo valore tra la data effettiva di inizio e il primo gennaio di quell'anno.<br>Questa funzione viene applicata solamente al dataframe di prestiti con durata diversa da zero."
   ]
  },
  {
   "cell_type": "code",
   "execution_count": 33,
   "metadata": {},
   "outputs": [],
   "source": [
    "def day_count(date1, date2):\n",
    "    \n",
    "    if date1 < date2:\n",
    "        begin = date1 + datetime.timedelta(1)\n",
    "        end = date2 + datetime.timedelta(1)\n",
    "    else:\n",
    "        begin = date2 + datetime.timedelta(1)\n",
    "        end = date1 + datetime.timedelta(1)\n",
    "        \n",
    "    years = range(begin.year,end.year + 1)\n",
    "    dictionary = dict()\n",
    "    \n",
    "    for year in years:\n",
    "        year_start = datetime.date(year, 1, 1)\n",
    "        year_end = datetime.date(year + 1, 1, 1)\n",
    "        dictionary.update({year:(min(end, year_end) - max(begin, year_start)).days})\n",
    "        \n",
    "    return pd.Series(dictionary, name = 'Date_Value')"
   ]
  },
  {
   "cell_type": "code",
   "execution_count": 34,
   "metadata": {},
   "outputs": [
    {
     "data": {
      "text/html": [
       "<div>\n",
       "<style scoped>\n",
       "    .dataframe tbody tr th:only-of-type {\n",
       "        vertical-align: middle;\n",
       "    }\n",
       "\n",
       "    .dataframe tbody tr th {\n",
       "        vertical-align: top;\n",
       "    }\n",
       "\n",
       "    .dataframe thead th {\n",
       "        text-align: right;\n",
       "    }\n",
       "</style>\n",
       "<table border=\"1\" class=\"dataframe\">\n",
       "  <thead>\n",
       "    <tr style=\"text-align: right;\">\n",
       "      <th></th>\n",
       "      <th>2011</th>\n",
       "      <th>2012</th>\n",
       "      <th>2013</th>\n",
       "      <th>2014</th>\n",
       "      <th>2015</th>\n",
       "      <th>2016</th>\n",
       "      <th>2017</th>\n",
       "      <th>2018</th>\n",
       "    </tr>\n",
       "  </thead>\n",
       "  <tbody>\n",
       "    <tr>\n",
       "      <th>0</th>\n",
       "      <td>nan</td>\n",
       "      <td>nan</td>\n",
       "      <td>9.00000</td>\n",
       "      <td>45.00000</td>\n",
       "      <td>nan</td>\n",
       "      <td>nan</td>\n",
       "      <td>nan</td>\n",
       "      <td>nan</td>\n",
       "    </tr>\n",
       "    <tr>\n",
       "      <th>1</th>\n",
       "      <td>nan</td>\n",
       "      <td>nan</td>\n",
       "      <td>11.00000</td>\n",
       "      <td>85.00000</td>\n",
       "      <td>nan</td>\n",
       "      <td>nan</td>\n",
       "      <td>nan</td>\n",
       "      <td>nan</td>\n",
       "    </tr>\n",
       "    <tr>\n",
       "      <th>2</th>\n",
       "      <td>nan</td>\n",
       "      <td>nan</td>\n",
       "      <td>nan</td>\n",
       "      <td>37.00000</td>\n",
       "      <td>nan</td>\n",
       "      <td>nan</td>\n",
       "      <td>nan</td>\n",
       "      <td>nan</td>\n",
       "    </tr>\n",
       "    <tr>\n",
       "      <th>3</th>\n",
       "      <td>nan</td>\n",
       "      <td>nan</td>\n",
       "      <td>nan</td>\n",
       "      <td>35.00000</td>\n",
       "      <td>nan</td>\n",
       "      <td>nan</td>\n",
       "      <td>nan</td>\n",
       "      <td>nan</td>\n",
       "    </tr>\n",
       "    <tr>\n",
       "      <th>4</th>\n",
       "      <td>nan</td>\n",
       "      <td>nan</td>\n",
       "      <td>14.00000</td>\n",
       "      <td>44.00000</td>\n",
       "      <td>nan</td>\n",
       "      <td>nan</td>\n",
       "      <td>nan</td>\n",
       "      <td>nan</td>\n",
       "    </tr>\n",
       "    <tr>\n",
       "      <th>...</th>\n",
       "      <td>...</td>\n",
       "      <td>...</td>\n",
       "      <td>...</td>\n",
       "      <td>...</td>\n",
       "      <td>...</td>\n",
       "      <td>...</td>\n",
       "      <td>...</td>\n",
       "      <td>...</td>\n",
       "    </tr>\n",
       "    <tr>\n",
       "      <th>1419602</th>\n",
       "      <td>nan</td>\n",
       "      <td>nan</td>\n",
       "      <td>nan</td>\n",
       "      <td>nan</td>\n",
       "      <td>38.00000</td>\n",
       "      <td>2.00000</td>\n",
       "      <td>nan</td>\n",
       "      <td>nan</td>\n",
       "    </tr>\n",
       "    <tr>\n",
       "      <th>1419603</th>\n",
       "      <td>nan</td>\n",
       "      <td>nan</td>\n",
       "      <td>nan</td>\n",
       "      <td>nan</td>\n",
       "      <td>37.00000</td>\n",
       "      <td>2.00000</td>\n",
       "      <td>nan</td>\n",
       "      <td>nan</td>\n",
       "    </tr>\n",
       "    <tr>\n",
       "      <th>1419604</th>\n",
       "      <td>nan</td>\n",
       "      <td>nan</td>\n",
       "      <td>nan</td>\n",
       "      <td>nan</td>\n",
       "      <td>48.00000</td>\n",
       "      <td>3.00000</td>\n",
       "      <td>nan</td>\n",
       "      <td>nan</td>\n",
       "    </tr>\n",
       "    <tr>\n",
       "      <th>1419605</th>\n",
       "      <td>nan</td>\n",
       "      <td>nan</td>\n",
       "      <td>nan</td>\n",
       "      <td>nan</td>\n",
       "      <td>58.00000</td>\n",
       "      <td>5.00000</td>\n",
       "      <td>nan</td>\n",
       "      <td>nan</td>\n",
       "    </tr>\n",
       "    <tr>\n",
       "      <th>1419606</th>\n",
       "      <td>nan</td>\n",
       "      <td>nan</td>\n",
       "      <td>nan</td>\n",
       "      <td>nan</td>\n",
       "      <td>58.00000</td>\n",
       "      <td>3.00000</td>\n",
       "      <td>nan</td>\n",
       "      <td>nan</td>\n",
       "    </tr>\n",
       "  </tbody>\n",
       "</table>\n",
       "<p>1044218 rows × 8 columns</p>\n",
       "</div>"
      ],
      "text/plain": [
       "         2011  2012     2013     2014     2015    2016  2017  2018\n",
       "0         nan   nan  9.00000 45.00000      nan     nan   nan   nan\n",
       "1         nan   nan 11.00000 85.00000      nan     nan   nan   nan\n",
       "2         nan   nan      nan 37.00000      nan     nan   nan   nan\n",
       "3         nan   nan      nan 35.00000      nan     nan   nan   nan\n",
       "4         nan   nan 14.00000 44.00000      nan     nan   nan   nan\n",
       "...       ...   ...      ...      ...      ...     ...   ...   ...\n",
       "1419602   nan   nan      nan      nan 38.00000 2.00000   nan   nan\n",
       "1419603   nan   nan      nan      nan 37.00000 2.00000   nan   nan\n",
       "1419604   nan   nan      nan      nan 48.00000 3.00000   nan   nan\n",
       "1419605   nan   nan      nan      nan 58.00000 5.00000   nan   nan\n",
       "1419606   nan   nan      nan      nan 58.00000 3.00000   nan   nan\n",
       "\n",
       "[1044218 rows x 8 columns]"
      ]
     },
     "execution_count": 34,
     "metadata": {},
     "output_type": "execute_result"
    }
   ],
   "source": [
    "timetable = loans__duration_not_zero.apply(lambda x: day_count(x['disburse_time'], x['planned_expiration_time']), axis = 1)\n",
    "\n",
    "timetable"
   ]
  },
  {
   "cell_type": "markdown",
   "metadata": {},
   "source": [
    "I valori *NaN* del dataframe *timetable* (creato grazie alla funzione precedetemente descritta) vengono riempiti con zero; successivamente viene effettuato un merge tra questo dataframe e quello dei prestiti con durata diversa da zero, per poter ottenere informazioni sulla *duration* e sul *loan_amount*. "
   ]
  },
  {
   "cell_type": "code",
   "execution_count": 35,
   "metadata": {},
   "outputs": [
    {
     "data": {
      "text/html": [
       "<div>\n",
       "<style scoped>\n",
       "    .dataframe tbody tr th:only-of-type {\n",
       "        vertical-align: middle;\n",
       "    }\n",
       "\n",
       "    .dataframe tbody tr th {\n",
       "        vertical-align: top;\n",
       "    }\n",
       "\n",
       "    .dataframe thead th {\n",
       "        text-align: right;\n",
       "    }\n",
       "</style>\n",
       "<table border=\"1\" class=\"dataframe\">\n",
       "  <thead>\n",
       "    <tr style=\"text-align: right;\">\n",
       "      <th></th>\n",
       "      <th>loan_id</th>\n",
       "      <th>2011</th>\n",
       "      <th>2012</th>\n",
       "      <th>2013</th>\n",
       "      <th>2014</th>\n",
       "      <th>2015</th>\n",
       "      <th>2016</th>\n",
       "      <th>2017</th>\n",
       "      <th>2018</th>\n",
       "      <th>loan_amount</th>\n",
       "      <th>duration</th>\n",
       "    </tr>\n",
       "  </thead>\n",
       "  <tbody>\n",
       "    <tr>\n",
       "      <th>0</th>\n",
       "      <td>657307</td>\n",
       "      <td>0.00000</td>\n",
       "      <td>0.00000</td>\n",
       "      <td>9.00000</td>\n",
       "      <td>45.00000</td>\n",
       "      <td>0.00000</td>\n",
       "      <td>0.00000</td>\n",
       "      <td>0.00000</td>\n",
       "      <td>0.00000</td>\n",
       "      <td>125.00000</td>\n",
       "      <td>54.00000</td>\n",
       "    </tr>\n",
       "    <tr>\n",
       "      <th>1</th>\n",
       "      <td>657259</td>\n",
       "      <td>0.00000</td>\n",
       "      <td>0.00000</td>\n",
       "      <td>11.00000</td>\n",
       "      <td>85.00000</td>\n",
       "      <td>0.00000</td>\n",
       "      <td>0.00000</td>\n",
       "      <td>0.00000</td>\n",
       "      <td>0.00000</td>\n",
       "      <td>400.00000</td>\n",
       "      <td>96.00000</td>\n",
       "    </tr>\n",
       "    <tr>\n",
       "      <th>2</th>\n",
       "      <td>658010</td>\n",
       "      <td>0.00000</td>\n",
       "      <td>0.00000</td>\n",
       "      <td>0.00000</td>\n",
       "      <td>37.00000</td>\n",
       "      <td>0.00000</td>\n",
       "      <td>0.00000</td>\n",
       "      <td>0.00000</td>\n",
       "      <td>0.00000</td>\n",
       "      <td>400.00000</td>\n",
       "      <td>37.00000</td>\n",
       "    </tr>\n",
       "    <tr>\n",
       "      <th>3</th>\n",
       "      <td>659347</td>\n",
       "      <td>0.00000</td>\n",
       "      <td>0.00000</td>\n",
       "      <td>0.00000</td>\n",
       "      <td>35.00000</td>\n",
       "      <td>0.00000</td>\n",
       "      <td>0.00000</td>\n",
       "      <td>0.00000</td>\n",
       "      <td>0.00000</td>\n",
       "      <td>625.00000</td>\n",
       "      <td>35.00000</td>\n",
       "    </tr>\n",
       "    <tr>\n",
       "      <th>4</th>\n",
       "      <td>656933</td>\n",
       "      <td>0.00000</td>\n",
       "      <td>0.00000</td>\n",
       "      <td>14.00000</td>\n",
       "      <td>44.00000</td>\n",
       "      <td>0.00000</td>\n",
       "      <td>0.00000</td>\n",
       "      <td>0.00000</td>\n",
       "      <td>0.00000</td>\n",
       "      <td>425.00000</td>\n",
       "      <td>58.00000</td>\n",
       "    </tr>\n",
       "    <tr>\n",
       "      <th>...</th>\n",
       "      <td>...</td>\n",
       "      <td>...</td>\n",
       "      <td>...</td>\n",
       "      <td>...</td>\n",
       "      <td>...</td>\n",
       "      <td>...</td>\n",
       "      <td>...</td>\n",
       "      <td>...</td>\n",
       "      <td>...</td>\n",
       "      <td>...</td>\n",
       "      <td>...</td>\n",
       "    </tr>\n",
       "    <tr>\n",
       "      <th>1044213</th>\n",
       "      <td>988180</td>\n",
       "      <td>0.00000</td>\n",
       "      <td>0.00000</td>\n",
       "      <td>0.00000</td>\n",
       "      <td>0.00000</td>\n",
       "      <td>38.00000</td>\n",
       "      <td>2.00000</td>\n",
       "      <td>0.00000</td>\n",
       "      <td>0.00000</td>\n",
       "      <td>400.00000</td>\n",
       "      <td>40.00000</td>\n",
       "    </tr>\n",
       "    <tr>\n",
       "      <th>1044214</th>\n",
       "      <td>988213</td>\n",
       "      <td>0.00000</td>\n",
       "      <td>0.00000</td>\n",
       "      <td>0.00000</td>\n",
       "      <td>0.00000</td>\n",
       "      <td>37.00000</td>\n",
       "      <td>2.00000</td>\n",
       "      <td>0.00000</td>\n",
       "      <td>0.00000</td>\n",
       "      <td>300.00000</td>\n",
       "      <td>39.00000</td>\n",
       "    </tr>\n",
       "    <tr>\n",
       "      <th>1044215</th>\n",
       "      <td>989109</td>\n",
       "      <td>0.00000</td>\n",
       "      <td>0.00000</td>\n",
       "      <td>0.00000</td>\n",
       "      <td>0.00000</td>\n",
       "      <td>48.00000</td>\n",
       "      <td>3.00000</td>\n",
       "      <td>0.00000</td>\n",
       "      <td>0.00000</td>\n",
       "      <td>2425.00000</td>\n",
       "      <td>51.00000</td>\n",
       "    </tr>\n",
       "    <tr>\n",
       "      <th>1044216</th>\n",
       "      <td>989143</td>\n",
       "      <td>0.00000</td>\n",
       "      <td>0.00000</td>\n",
       "      <td>0.00000</td>\n",
       "      <td>0.00000</td>\n",
       "      <td>58.00000</td>\n",
       "      <td>5.00000</td>\n",
       "      <td>0.00000</td>\n",
       "      <td>0.00000</td>\n",
       "      <td>100.00000</td>\n",
       "      <td>63.00000</td>\n",
       "    </tr>\n",
       "    <tr>\n",
       "      <th>1044217</th>\n",
       "      <td>989240</td>\n",
       "      <td>0.00000</td>\n",
       "      <td>0.00000</td>\n",
       "      <td>0.00000</td>\n",
       "      <td>0.00000</td>\n",
       "      <td>58.00000</td>\n",
       "      <td>3.00000</td>\n",
       "      <td>0.00000</td>\n",
       "      <td>0.00000</td>\n",
       "      <td>175.00000</td>\n",
       "      <td>61.00000</td>\n",
       "    </tr>\n",
       "  </tbody>\n",
       "</table>\n",
       "<p>1044218 rows × 11 columns</p>\n",
       "</div>"
      ],
      "text/plain": [
       "         loan_id    2011    2012     2013     2014     2015    2016    2017  \\\n",
       "0         657307 0.00000 0.00000  9.00000 45.00000  0.00000 0.00000 0.00000   \n",
       "1         657259 0.00000 0.00000 11.00000 85.00000  0.00000 0.00000 0.00000   \n",
       "2         658010 0.00000 0.00000  0.00000 37.00000  0.00000 0.00000 0.00000   \n",
       "3         659347 0.00000 0.00000  0.00000 35.00000  0.00000 0.00000 0.00000   \n",
       "4         656933 0.00000 0.00000 14.00000 44.00000  0.00000 0.00000 0.00000   \n",
       "...          ...     ...     ...      ...      ...      ...     ...     ...   \n",
       "1044213   988180 0.00000 0.00000  0.00000  0.00000 38.00000 2.00000 0.00000   \n",
       "1044214   988213 0.00000 0.00000  0.00000  0.00000 37.00000 2.00000 0.00000   \n",
       "1044215   989109 0.00000 0.00000  0.00000  0.00000 48.00000 3.00000 0.00000   \n",
       "1044216   989143 0.00000 0.00000  0.00000  0.00000 58.00000 5.00000 0.00000   \n",
       "1044217   989240 0.00000 0.00000  0.00000  0.00000 58.00000 3.00000 0.00000   \n",
       "\n",
       "           2018  loan_amount  duration  \n",
       "0       0.00000    125.00000  54.00000  \n",
       "1       0.00000    400.00000  96.00000  \n",
       "2       0.00000    400.00000  37.00000  \n",
       "3       0.00000    625.00000  35.00000  \n",
       "4       0.00000    425.00000  58.00000  \n",
       "...         ...          ...       ...  \n",
       "1044213 0.00000    400.00000  40.00000  \n",
       "1044214 0.00000    300.00000  39.00000  \n",
       "1044215 0.00000   2425.00000  51.00000  \n",
       "1044216 0.00000    100.00000  63.00000  \n",
       "1044217 0.00000    175.00000  61.00000  \n",
       "\n",
       "[1044218 rows x 11 columns]"
      ]
     },
     "execution_count": 35,
     "metadata": {},
     "output_type": "execute_result"
    }
   ],
   "source": [
    "timetable.fillna(0, inplace = True)\n",
    "\n",
    "timetable = timetable.set_index(loans__duration_not_zero['loan_id']).reset_index()\n",
    "\n",
    "timetable = pd.merge(timetable, loans__duration_not_zero[['loan_id', 'loan_amount', 'duration']], \n",
    "                     on = 'loan_id')\n",
    "\n",
    "timetable"
   ]
  },
  {
   "cell_type": "markdown",
   "metadata": {},
   "source": [
    "Viene di seguito creato un nuovo dataframe, chiamato *loan_amount_per_year*, in cui viene calcolato in modo proporzionale l'ammontare dei prestiti per i singoli anni."
   ]
  },
  {
   "cell_type": "code",
   "execution_count": 36,
   "metadata": {},
   "outputs": [],
   "source": [
    "loan_amount_per_year = timetable[[2011,2012,2013,2014,2015,2016,2017,2018\n",
    "                        ]].div(timetable['duration'], axis=0).mul(timetable['loan_amount'], axis = 0)"
   ]
  },
  {
   "cell_type": "markdown",
   "metadata": {},
   "source": [
    "Viene calcolata la somma dei prestiti anno per anno sul dataframe appena creato (*df1*) e anche la somma dei prestiti anno per anno sul dataframe dei prestiti con durata uguale a zero (*df2*).<br>Infine questi due dataset vengono concatenati, viene eseguita la somma tra i *loan_amount* dei dataframe *df1* e *df2*, anno per anno, ed infine viene stampato il dataframe finale, chiamato *loan_amount_per_year_complete*.  "
   ]
  },
  {
   "cell_type": "code",
   "execution_count": 37,
   "metadata": {},
   "outputs": [],
   "source": [
    "df1 = loan_amount_per_year.sum().to_frame().reset_index().rename(columns = {'index':'year', 0:'loan_amount'})\n",
    "\n",
    "df2 = loans_duration_zero.groupby('disburse_year')['loan_amount'].sum().to_frame().reset_index().\\\n",
    "       rename(columns = {'disburse_year':'year'})"
   ]
  },
  {
   "cell_type": "code",
   "execution_count": 38,
   "metadata": {},
   "outputs": [],
   "source": [
    "loan_amount_per_year_complete = pd.concat([df1,df2]).groupby('year')['loan_amount'].sum().to_frame().reset_index()"
   ]
  },
  {
   "cell_type": "code",
   "execution_count": 39,
   "metadata": {},
   "outputs": [
    {
     "data": {
      "text/html": [
       "<div>\n",
       "<style scoped>\n",
       "    .dataframe tbody tr th:only-of-type {\n",
       "        vertical-align: middle;\n",
       "    }\n",
       "\n",
       "    .dataframe tbody tr th {\n",
       "        vertical-align: top;\n",
       "    }\n",
       "\n",
       "    .dataframe thead th {\n",
       "        text-align: right;\n",
       "    }\n",
       "</style>\n",
       "<table border=\"1\" class=\"dataframe\">\n",
       "  <thead>\n",
       "    <tr style=\"text-align: right;\">\n",
       "      <th></th>\n",
       "      <th>year</th>\n",
       "      <th>loan_amount</th>\n",
       "    </tr>\n",
       "  </thead>\n",
       "  <tbody>\n",
       "    <tr>\n",
       "      <th>0</th>\n",
       "      <td>2011.00000</td>\n",
       "      <td>629911.77488</td>\n",
       "    </tr>\n",
       "    <tr>\n",
       "      <th>1</th>\n",
       "      <td>2012.00000</td>\n",
       "      <td>113287580.79478</td>\n",
       "    </tr>\n",
       "    <tr>\n",
       "      <th>2</th>\n",
       "      <td>2013.00000</td>\n",
       "      <td>125015552.04954</td>\n",
       "    </tr>\n",
       "    <tr>\n",
       "      <th>3</th>\n",
       "      <td>2014.00000</td>\n",
       "      <td>153214272.06143</td>\n",
       "    </tr>\n",
       "    <tr>\n",
       "      <th>4</th>\n",
       "      <td>2015.00000</td>\n",
       "      <td>159929916.50857</td>\n",
       "    </tr>\n",
       "    <tr>\n",
       "      <th>5</th>\n",
       "      <td>2016.00000</td>\n",
       "      <td>159363790.44077</td>\n",
       "    </tr>\n",
       "    <tr>\n",
       "      <th>6</th>\n",
       "      <td>2017.00000</td>\n",
       "      <td>172536423.51457</td>\n",
       "    </tr>\n",
       "    <tr>\n",
       "      <th>7</th>\n",
       "      <td>2018.00000</td>\n",
       "      <td>5826652.85546</td>\n",
       "    </tr>\n",
       "  </tbody>\n",
       "</table>\n",
       "</div>"
      ],
      "text/plain": [
       "        year     loan_amount\n",
       "0 2011.00000    629911.77488\n",
       "1 2012.00000 113287580.79478\n",
       "2 2013.00000 125015552.04954\n",
       "3 2014.00000 153214272.06143\n",
       "4 2015.00000 159929916.50857\n",
       "5 2016.00000 159363790.44077\n",
       "6 2017.00000 172536423.51457\n",
       "7 2018.00000   5826652.85546"
      ]
     },
     "execution_count": 39,
     "metadata": {},
     "output_type": "execute_result"
    }
   ],
   "source": [
    "loan_amount_per_year_complete"
   ]
  },
  {
   "cell_type": "code",
   "execution_count": null,
   "metadata": {},
   "outputs": [],
   "source": []
  }
 ],
 "metadata": {
  "kernelspec": {
   "display_name": "Python 3",
   "language": "python",
   "name": "python3"
  },
  "language_info": {
   "codemirror_mode": {
    "name": "ipython",
    "version": 3
   },
   "file_extension": ".py",
   "mimetype": "text/x-python",
   "name": "python",
   "nbconvert_exporter": "python",
   "pygments_lexer": "ipython3",
   "version": "3.8.3"
  }
 },
 "nbformat": 4,
 "nbformat_minor": 4
}
